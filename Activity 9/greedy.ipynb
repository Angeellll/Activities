{
 "cells": [
  {
   "cell_type": "code",
   "execution_count": 16,
   "metadata": {},
   "outputs": [
    {
     "name": "stdout",
     "output_type": "stream",
     "text": [
      "[0, 0, 1, 1, 0, 0, 0]\n"
     ]
    }
   ],
   "source": [
    "denominations = [1, 2, 5, 10, 20, 50, 100]\n",
    "\n",
    "\n",
    "def returnChange ( change , denominations) :\n",
    "    toGiveBack = [0] * len ( denominations)\n",
    "    \n",
    "    for pos , coin in enumerate (reversed (denominations ) ) :\n",
    "        while coin <= change :\n",
    "            change = change - coin\n",
    "            toGiveBack [pos] += 1\n",
    "    return ( toGiveBack)\n",
    "\n",
    "print (returnChange (30, denominations) )"
   ]
  }
 ],
 "metadata": {
  "kernelspec": {
   "display_name": "Python 3",
   "language": "python",
   "name": "python3"
  },
  "language_info": {
   "codemirror_mode": {
    "name": "ipython",
    "version": 3
   },
   "file_extension": ".py",
   "mimetype": "text/x-python",
   "name": "python",
   "nbconvert_exporter": "python",
   "pygments_lexer": "ipython3",
   "version": "3.11.3"
  },
  "orig_nbformat": 4
 },
 "nbformat": 4,
 "nbformat_minor": 2
}
