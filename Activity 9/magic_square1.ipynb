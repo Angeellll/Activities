{
 "cells": [
  {
   "cell_type": "code",
   "execution_count": 26,
   "metadata": {},
   "outputs": [
    {
     "data": {
      "text/plain": [
       "False"
      ]
     },
     "execution_count": 26,
     "metadata": {},
     "output_type": "execute_result"
    }
   ],
   "source": [
    "def magic_square(matrix):\n",
    "    size = len(matrix[0])\n",
    "    sum_list = []\n",
    "    for col in range(size):\n",
    "        sum_list.append(sum(row[col] for row in matrix))\n",
    "    sum_list.extend([sum (lines) for lines in matrix])\n",
    "    resultl = 0\n",
    "    for i in range(0, size):\n",
    "        resultl +=matrix[i][i]\n",
    "    sum_list.append(resultl)\n",
    "    result2 = 0\n",
    "    for i in range(size-1, -1, -1):\n",
    "        result2 +=matrix[i][i]\n",
    "    sum_list.append(result2)\n",
    "    if len(set(sum_list))>1:\n",
    "        return False\n",
    "    return True\n",
    "\n",
    "magic_square ( [[1,2,3] , [4,5,6] , [7,8,9] ] )\n"
   ]
  },
  {
   "cell_type": "code",
   "execution_count": 27,
   "metadata": {},
   "outputs": [
    {
     "data": {
      "text/plain": [
       "True"
      ]
     },
     "execution_count": 27,
     "metadata": {},
     "output_type": "execute_result"
    }
   ],
   "source": [
    "magic_square ( [[2,7,6] , [9,5,1] , [4,3,8] ] )"
   ]
  }
 ],
 "metadata": {
  "kernelspec": {
   "display_name": "Python 3",
   "language": "python",
   "name": "python3"
  },
  "language_info": {
   "name": "python",
   "version": "3.11.3"
  },
  "orig_nbformat": 4
 },
 "nbformat": 4,
 "nbformat_minor": 2
}
