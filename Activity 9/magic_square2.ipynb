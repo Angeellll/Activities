{
 "cells": [
  {
   "cell_type": "code",
   "execution_count": 2,
   "metadata": {},
   "outputs": [
    {
     "name": "stdout",
     "output_type": "stream",
     "text": [
      "[{'a': 4, 'b': 8}, {'a': 3, 'b': 6}, {'a': 2, 'b': 4}, {'a': 1, 'b': 2}, {'a': 0, 'b': 0}]\n",
      "False\n"
     ]
    }
   ],
   "source": [
    "from constraint import *\n",
    "problem = Problem()\n",
    "problem.addVariable('a', range(10))\n",
    "problem.addVariable('b', range(10))\n",
    "problem.addConstraint(lambda a, b: a * 2 == b)\n",
    "solutions= problem.getSolutions()\n",
    "print (solutions)\n",
    "\n",
    "def magic_square(matrix_ms):\n",
    "    iSize = len(matrix_ms[0])\n",
    "    sum_list = []\n",
    "    for col in range(iSize):\n",
    "        sum_list.append(sum(row[col] for row in matrix_ms))\n",
    "        sum_list.extend([sum (lines) for lines in matrix_ms])\n",
    "    resultl = 0\n",
    "    for i in range(0, iSize):\n",
    "        resultl +=matrix_ms[i][i]\n",
    "    sum_list.append(resultl)\n",
    "    result2 = 0\n",
    "    for i in range(iSize-1, -1, -1):\n",
    "        result2 +=matrix_ms[i][i]\n",
    "    sum_list.append(result2)\n",
    "    if len(set(sum_list))>1:\n",
    "        return False\n",
    "    return True\n",
    "\n",
    "print(magic_square ( [[1,2,3] , [4,5,6] , [7,8,9] ] ))"
   ]
  }
 ],
 "metadata": {
  "kernelspec": {
   "display_name": "Python 3",
   "language": "python",
   "name": "python3"
  },
  "language_info": {
   "codemirror_mode": {
    "name": "ipython",
    "version": 3
   },
   "file_extension": ".py",
   "mimetype": "text/x-python",
   "name": "python",
   "nbconvert_exporter": "python",
   "pygments_lexer": "ipython3",
   "version": "3.11.1"
  },
  "orig_nbformat": 4
 },
 "nbformat": 4,
 "nbformat_minor": 2
}
